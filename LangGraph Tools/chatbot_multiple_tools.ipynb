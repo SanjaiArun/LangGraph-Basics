{
 "cells": [
  {
   "cell_type": "code",
   "execution_count": 6,
   "id": "ec48939d",
   "metadata": {},
   "outputs": [],
   "source": [
    "## tools\n",
    "\n",
    "from langchain_community.tools import ArxivQueryRun, WikipediaQueryRun\n",
    "from langchain_community.utilities import ArxivAPIWrapper, WikipediaAPIWrapper"
   ]
  },
  {
   "cell_type": "code",
   "execution_count": 7,
   "id": "481716c8",
   "metadata": {},
   "outputs": [
    {
     "name": "stdout",
     "output_type": "stream",
     "text": [
      "arxiv\n"
     ]
    }
   ],
   "source": [
    "api_wrapper_arxiv = ArxivAPIWrapper(top_k_results=2,doc_content_chars_max=500)\n",
    "arxiv= ArxivQueryRun(api_wrapper=api_wrapper_arxiv,description=\"Query arxiv papers\")\n",
    "print(arxiv.name)"
   ]
  },
  {
   "cell_type": "code",
   "execution_count": 8,
   "id": "f2c6440c",
   "metadata": {},
   "outputs": [],
   "source": [
    "# arxiv.invoke(\"what is the latest research on quantum computing?\")"
   ]
  },
  {
   "cell_type": "code",
   "execution_count": 9,
   "id": "defceb21",
   "metadata": {},
   "outputs": [
    {
     "name": "stdout",
     "output_type": "stream",
     "text": [
      "wikipedia\n"
     ]
    }
   ],
   "source": [
    "api_wrapper_wiki= WikipediaAPIWrapper(top_k_results=1,doc_content_chars_max=500)\n",
    "wiki= WikipediaQueryRun(api_wrapper=api_wrapper_wiki)\n",
    "print(wiki.name)"
   ]
  },
  {
   "cell_type": "code",
   "execution_count": 10,
   "id": "83c4e40d",
   "metadata": {},
   "outputs": [],
   "source": [
    "## set the environment variables\n",
    "from dotenv import load_dotenv\n",
    "load_dotenv()\n",
    "\n",
    "import os\n",
    "\n",
    "os.environ[\"GROQ_API_KEY\"] = os.getenv(\"GROQ_API_KEY\")\n",
    "os.environ[\"TAVILY_API_KEY\"] = os.getenv(\"TAVILY_API_KEY\")"
   ]
  },
  {
   "cell_type": "code",
   "execution_count": 11,
   "id": "cb6bc92d",
   "metadata": {},
   "outputs": [],
   "source": [
    "## Tavily search tool\n",
    "from langchain_community.tools.tavily_search import TavilySearchResults\n",
    "\n",
    "tavily = TavilySearchResults()"
   ]
  },
  {
   "cell_type": "code",
   "execution_count": 12,
   "id": "dcdf9143",
   "metadata": {},
   "outputs": [],
   "source": [
    "# tavily.invoke(\"Provide me the recent AI news\")"
   ]
  },
  {
   "cell_type": "code",
   "execution_count": 13,
   "id": "781775e3",
   "metadata": {},
   "outputs": [],
   "source": [
    "## combine all these tools in the list\n",
    "tools=[arxiv, wiki, tavily]"
   ]
  },
  {
   "cell_type": "code",
   "execution_count": 16,
   "id": "d6a52206",
   "metadata": {},
   "outputs": [],
   "source": [
    "## Initialize the LLM Model\n",
    "\n",
    "from langchain_groq import ChatGroq\n",
    "llm=ChatGroq(\n",
    "    model=\"qwen-qwq-32b\"\n",
    ")"
   ]
  },
  {
   "cell_type": "code",
   "execution_count": null,
   "id": "a8cdc0c3",
   "metadata": {},
   "outputs": [
    {
     "data": {
      "text/plain": [
       "AIMessage(content='\\n<think>\\nOkay, the user is asking, \"What is AI?\" I need to explain it clearly. Let me start by defining AI in simple terms. Maybe mention that AI stands for Artificial Intelligence. Then, I should explain what that means. I should differentiate between the general idea and the technical aspects.\\n\\nHmm, the user might not know much about this, so I should keep it basic. Maybe start with a straightforward definition: AI involves machines that can perform tasks requiring human intelligence. But wait, I should also touch on the different types of AI, like general vs. narrow AI. Oh right, examples help. Like Siri or self-driving cars.\\n\\nWait, I should also mention how AI works. Maybe talk about machine learning, neural networks, algorithms. But not too technical. The user might be curious about applications too—like healthcare, finance, etc. Also, maybe touch on common misconceptions, like the difference between AI and regular automation.\\n\\nShould I include a brief history? Maybe mention early concepts versus modern advancements. Also, address ethical considerations? The user didn\\'t ask for that, but a quick mention might be useful. But since they just asked for the definition, maybe keep it focused unless it\\'s necessary.\\n\\nWait, let me structure this. Start with a definition, then break it down into key components. Maybe bullet points for clarity? The user might want to see categories like types of AI, how it works, applications, and current state. But since the question is straightforward, I need to be concise but comprehensive.\\n\\nOh, and maybe mention that AI is a broad field encompassing various disciplines like computer science, mathematics, and more. Also, clarify that it\\'s not just about robots; AI can be software or systems. Need to avoid jargon as much as possible. Let me check if I\\'m missing key points. Yes, maybe include the difference between AI, machine learning, and deep learning, but briefly. Hmm, maybe that\\'s too detailed. The user might not need that unless they specify, but since the question is general, a high-level overview is better.\\n\\nAlright, putting it all together: start with the definition, explain the scope, mention types (narrow vs general), how it works (algorithms, data), common applications, and a note on current status and evolution. Keep it friendly and accessible. Avoid being too technical, but accurate. Okay, I think that covers it. Let me make sure there\\'s no misinformation. Yeah, I think that works.\\n</think>\\n\\n**Artificial Intelligence (AI)** refers to the simulation of human intelligence in machines, enabling them to perform tasks that typically require human cognitive abilities, such as learning, problem-solving, decision-making, perception, and language understanding. Here\\'s a structured breakdown of AI:\\n\\n---\\n\\n### 1. **Core Definition**:\\n   - **Machines with \"intelligence\"**: AI systems can analyze data, recognize patterns, and make decisions with varying degrees of autonomy.\\n   - **Goal**: To mimic or augment human intelligence to solve complex problems efficiently.\\n\\n---\\n\\n### 2. **Types of AI**:\\n   - **Narrow (Weak) AI**:  \\n     Performs **specific tasks** within defined limits (e.g., voice assistants like Siri, recommendation systems on Netflix, or spam filters).  \\n     *This is the most common form of AI today.*  \\n\\n   - **General (Strong) AI**:  \\n     Hypothetical AI that can perform **any intellectual task a human can**, including creativity, reasoning, and learning across multiple domains.  \\n     *This does not yet exist and is still theoretical.*  \\n\\n   - **Artificial Superintelligence**:  \\n     A speculative future AI that surpasses all human cognitive capabilities.  \\n\\n---\\n\\n### 3. **How It Works**:\\n   - **Machine Learning (ML)**:  \\n     A subset of AI where systems learn from data to improve performance on a task (e.g., predicting stock prices).  \\n   - **Deep Learning**:  \\n     A type of ML using **neural networks** inspired by the human brain to process vast amounts of data (e.g., image recognition in self-driving cars).  \\n   - **Natural Language Processing (NLP)**:  \\n     Enables machines to understand and generate human language (e.g., chatbots, translation tools like Google Translate).  \\n\\n---\\n\\n### 4. **Applications**:\\n   - **Healthcare**: Diagnosing diseases, drug discovery, and personalized treatment plans.  \\n   - **Business**: Customer service chatbots, fraud detection, and predictive analytics.  \\n   - **Transportation**: Autonomous vehicles (e.g., Tesla Autopilot).  \\n   - **Entertainment**: Content recommendation systems (e.g., Netflix, Spotify).  \\n   - **Home Automation**: Smart devices (e.g., Alexa, smart thermostats).  \\n\\n---\\n\\n### 5. **Key Concepts**:\\n   - **Data-Driven**: AI relies on large datasets to learn and improve.  \\n   - **Adaptability**: Many AI systems can \"learn\" from new data without explicit programming.  \\n   - **Autonomy**: Some systems operate independently (e.g., robotics in manufacturing).  \\n\\n---\\n\\n### 6. **Current State & Challenges**:\\n   - **Advances**: Rapid progress in narrow AI due to better algorithms, computing power, and big data.  \\n   - **Limitations**:  \\n     - Narrow AI is task-specific and lacks \"general\" intelligence.  \\n     - Ethical concerns (bias, privacy, job displacement).  \\n     - Technical hurdles (explainability, energy consumption).  \\n\\n---\\n\\n### 7. **Examples in Daily Life**:\\n   - Voice assistants (Siri, Alexa)  \\n   - Facial recognition systems  \\n   - Social media content curation (Facebook, TikTok)  \\n   - Self-driving cars (Waymo, Tesla)  \\n\\n---\\n\\n### 8. **Myth vs. Reality**:\\n   - **Myth**: AI is conscious or has emotions.  \\n   - **Reality**: AI is a tool driven by algorithms and data—it has no consciousness.  \\n\\n---\\n\\n### 9. **Future Prospects**:\\n   - Potential for breakthroughs in healthcare, climate modeling, and space exploration.  \\n   - Ongoing debates about regulation, ethics, and societal impact.  \\n\\n---\\n\\nIn summary, AI is a transformative technology that combines computer science, data analysis, and engineering to create systems that can \"think\" and act intelligently. While it’s already deeply integrated into modern life, its full potential—and ethical implications—are still evolving.', additional_kwargs={}, response_metadata={'token_usage': {'completion_tokens': 1326, 'prompt_tokens': 14, 'total_tokens': 1340, 'completion_time': 3.09249602, 'prompt_time': 0.002717872, 'queue_time': 0.266549118, 'total_time': 3.095213892}, 'model_name': 'qwen-qwq-32b', 'system_fingerprint': 'fp_28178d7ff6', 'finish_reason': 'stop', 'logprobs': None}, id='run--10f3bbe6-f37c-40b9-b27a-e0886a6e779c-0', usage_metadata={'input_tokens': 14, 'output_tokens': 1326, 'total_tokens': 1340})"
      ]
     },
     "execution_count": 17,
     "metadata": {},
     "output_type": "execute_result"
    }
   ],
   "source": [
    "# llm.invoke(\"What is AI?\")"
   ]
  },
  {
   "cell_type": "code",
   "execution_count": 18,
   "id": "e5de6d86",
   "metadata": {},
   "outputs": [],
   "source": [
    "llm_with_tools = llm.bind_tools(tools=tools)"
   ]
  },
  {
   "cell_type": "code",
   "execution_count": 23,
   "id": "d74c5730",
   "metadata": {},
   "outputs": [],
   "source": [
    "## Execute this call\n",
    "\n",
    "# llm_with_tools.invoke(\"What is the recent news on AI?\")\n",
    "# llm_with_tools.invoke(\"What is the latest research on quantum computing?\")\n",
    "# llm_with_tools.invoke(\"What is machine learning?\")"
   ]
  },
  {
   "cell_type": "markdown",
   "id": "ecf89679",
   "metadata": {},
   "source": [
    "Workflow"
   ]
  },
  {
   "cell_type": "code",
   "execution_count": 26,
   "id": "a4815fee",
   "metadata": {},
   "outputs": [],
   "source": [
    "## State Schema\n",
    "\n",
    "from typing_extensions import TypedDict\n",
    "from langchain_core.messages import AnyMessage ## Human message or AI message\n",
    "from typing import Annotated ## labelling\n",
    "from langgraph.graph.message import add_messages ## Reducers in langgraph"
   ]
  },
  {
   "cell_type": "code",
   "execution_count": 27,
   "id": "e0c80491",
   "metadata": {},
   "outputs": [],
   "source": [
    "class State(TypedDict):\n",
    "    messages: Annotated[list[AnyMessage], add_messages]  # List of messages in the conversation"
   ]
  },
  {
   "cell_type": "code",
   "execution_count": 30,
   "id": "2881a236",
   "metadata": {},
   "outputs": [],
   "source": [
    "## Entire chatbot with langgraph\n",
    "from IPython.display import Image, display\n",
    "from langgraph.graph import StateGraph, START, END\n",
    "from langgraph.prebuilt import ToolNode, tools_condition"
   ]
  },
  {
   "cell_type": "code",
   "execution_count": 47,
   "id": "237b4f4c",
   "metadata": {},
   "outputs": [
    {
     "data": {
      "image/png": "[encoded data removed]",
      "text/plain": [
       "<IPython.core.display.Image object>"
      ]
     },
     "metadata": {},
     "output_type": "display_data"
    }
   ],
   "source": [
    "## Node definition\n",
    "def tool_calling_llm(state: State):\n",
    "    return {\n",
    "        \"messages\": [llm_with_tools.invoke(state[\"messages\"])]\n",
    "    }\n",
    "\n",
    "## Build Graph\n",
    "builder = StateGraph(State)\n",
    "builder.add_node(\"tool_calling_llm\", tool_calling_llm)\n",
    "builder.add_node(\"tools\", ToolNode(tools))\n",
    "\n",
    "## Edges\n",
    "builder.add_edge(START, \"tool_calling_llm\")\n",
    "builder.add_conditional_edges(\n",
    "    \"tool_calling_llm\", \n",
    "    # If the latest message (result) from assistant is a tool call -> tools_condition routes to tools\n",
    "    # If the latest message (result) from assistant is not a tool call ->  tools_condition routes to END\n",
    "    tools_condition,\n",
    ")\n",
    "builder.add_edge(\"tools\", END)\n",
    "\n",
    "graph = builder.compile()\n",
    "\n",
    "#  Display the graph\n",
    "display(Image(graph.get_graph().draw_mermaid_png()))"
   ]
  },
  {
   "cell_type": "code",
   "execution_count": 42,
   "id": "6f4e63fc",
   "metadata": {},
   "outputs": [
    {
     "name": "stdout",
     "output_type": "stream",
     "text": [
      "================================\u001b[1m Human Message \u001b[0m=================================\n",
      "\n",
      "hi\n",
      "==================================\u001b[1m Ai Message \u001b[0m==================================\n",
      "\n",
      "Hi! Hello to you too! 😊 How can I assist you today? Feel free to ask about anything!\n"
     ]
    }
   ],
   "source": [
    "messages=graph.invoke({\"messages\":\"hi\"})\n",
    "for m in messages[\"messages\"]:\n",
    "    m.pretty_print()"
   ]
  },
  {
   "cell_type": "code",
   "execution_count": 50,
   "id": "5e00f0c4",
   "metadata": {},
   "outputs": [
    {
     "data": {
      "image/png": "[encoded data removed]",
      "text/plain": [
       "<IPython.core.display.Image object>"
      ]
     },
     "metadata": {},
     "output_type": "display_data"
    }
   ],
   "source": [
    "## Node definition\n",
    "def tool_calling_llm(state: State):\n",
    "    return {\n",
    "        \"messages\": [llm_with_tools.invoke(state[\"messages\"])]\n",
    "    }\n",
    "\n",
    "## Build Graph\n",
    "builder = StateGraph(State)\n",
    "builder.add_node(\"tool_calling_llm\", tool_calling_llm)\n",
    "builder.add_node(\"tools\", ToolNode(tools))\n",
    "\n",
    "## Edges\n",
    "builder.add_edge(START, \"tool_calling_llm\")\n",
    "builder.add_conditional_edges(\n",
    "    \"tool_calling_llm\", \n",
    "    # If the latest message (result) from assistant is a tool call -> tools_condition routes to tools\n",
    "    # If the latest message (result) from assistant is not a tool call ->  tools_condition routes to END\n",
    "    tools_condition,\n",
    ")\n",
    "builder.add_edge(\"tools\", \"tool_calling_llm\")  # Loop back to tool calling node\n",
    "\n",
    "graph = builder.compile()\n",
    "\n",
    "#  Display the graph\n",
    "display(Image(graph.get_graph().draw_mermaid_png()))"
   ]
  },
  {
   "cell_type": "code",
   "execution_count": 51,
   "id": "dc341743",
   "metadata": {},
   "outputs": [
    {
     "name": "stdout",
     "output_type": "stream",
     "text": [
      "================================\u001b[1m Human Message \u001b[0m=================================\n",
      "\n",
      "What is the recent ai news and then please tell me about the resent research paper on quantum computing?\n",
      "==================================\u001b[1m Ai Message \u001b[0m==================================\n",
      "Tool Calls:\n",
      "  tavily_search_results_json (kbm8aa799)\n",
      " Call ID: kbm8aa799\n",
      "  Args:\n",
      "    query: recent AI news 2023 breakthroughs and developments\n",
      "  arxiv (e9tsebqnm)\n",
      " Call ID: e9tsebqnm\n",
      "  Args:\n",
      "    query: recent quantum computing research papers 2023\n",
      "=================================\u001b[1m Tool Message \u001b[0m=================================\n",
      "Name: tavily_search_results_json\n",
      "\n",
      "[{\"title\": \"2023 in AI: A Year of Breakthroughs and Boundless Possibilities\", \"url\": \"https://www.sagacify.com/news/2023-in-ai-a-year-of-breakthroughs-and-boundless-possibilities\", \"content\": \"As 2023 concludes, we find ourselves in awe of the significant transformations that have reshaped the landscape of artificial intelligence. This year has been a testament to the dynamic and ever-evolving nature of this field. Let's delve into some of the key developments that have defined AI in 2023.\\n\\nâ **The Emergence of Advanced Language Models** [...] **Scientific Breakthroughs Fueled by AI**â\\n\\nIn 2023, the synergy between language and diffusion models brought forth unprecedented achievements in fields like molecular biology and drug discovery. The emergence of multimodal AI opened new avenues, sparking excitement across various domains for its potential applications.  \\nâ\\n\\n**Expanding Capabilities: LLMs and Software Tools** [...] like Meta's[**LLaMa-1**](https://ai.meta.com/blog/large-language-model-llama-meta-ai/) and MosaicMLâs[**MPT-30B**](https://www.mosaicml.com/blog/mpt-30b) demonstrated the expanding reach of this technology.\", \"score\": 0.8565368}, {\"title\": \"AI in 2023 Review: A Timeline of Artificial Intelligence Advancements\", \"url\": \"https://autogpt.net/ai-in-2023-review-a-timeline-of-artificial-intelligence-advancements/\", \"content\": \"As 2023 progressed, artificial intelligence (AI) experienced remarkable developments, with breakthroughs in chatbots, language models, and AI applications\", \"score\": 0.85157084}, {\"title\": \"Latest AI Breakthroughs and News: May-June 2025 - Crescendo.ai\", \"url\": \"https://www.crescendo.ai/news/latest-ai-news-and-updates\", \"content\": \"**Date:** April 8, 2025  \\n**Summary:** A UN Trade and Development (UNCTAD) report forecasts the global AI market will surge from $189 billion in 2023 to $4.8 trillion by 2033, marking a 25-fold increase. The report highlights concerns about the concentration of AI development in major economies and firms, emphasizing the need for strategic investment and inclusive global governance to ensure equitable benefits.\", \"score\": 0.84858394}, {\"title\": \"Top 11 New Technologies in AI: Exploring the Latest Trends - devabit\", \"url\": \"https://devabit.com/blog/top-11-new-technologies-in-ai-exploring-the-latest-trends/\", \"content\": \"**On November 6, 2023, CEO of OpenAI Sam Altman** introduced a completely **new version of Chat GPT** that includes **[GPTs, Chat GPT Store, GPT-4 Turbo](https://devabit.com/blog/chat-gpt-store-new-complex-technologies-in-simple-words/)**, and other new technologies in AI that we are going to describe in this article. [...] A recent *[LinkedIn US Executive Confidence Index Survey](https://economicgraph.linkedin.com/research/future-of-work-report-ai)* from June 2023 reflects an optimistic outlook: **47%** of executives believe generative AI will boost productivity; **44%** plan to augment their newest AI technology utilization in the coming year; and **40%** view AI as a key to unlocking growth and revenue. [*Microsoft's 2023 Work Trend [...] report*](https://www.globenewswire.com/news-release/2023/08/17/2727391/0/en/Artificial-Intelligence-Market-Worth-1-345-2-billion-by-2030-Growing-at-a-CAGR-of-36-8-Report-by-MarketsandMarkets.html#:~:text=As%20per%20the%20report%20by,%7C%20Source%3A%20MarketsandMarkets%20Research%20Pvt.) also ensures that the artificial market has been divided by verticals into **Retail & eCommerce, BFSI, Government & Defense, Healthcare & Life Sciences, Telecom, Energy & Utilities, Manufacturing, Agriculture,\", \"score\": 0.8409005}, {\"title\": \"13 Biggest AI Stories of 2023 | Stanford HAI\", \"url\": \"https://hai.stanford.edu/news/13-biggest-ai-stories-2023\", \"content\": \"In 2023, the field of artificial intelligence witnessed a significant transformation — generative AI emerged as the most prominent and impactful story of the year. Driven by remarkable progress in large language models, the technology showcased impressive abilities in domains ranging from healthcare and education to creative arts and political discourse. The year saw models match or surpass human performance in some intricate tasks, such as answering complex medical exam questions, generating [...] The biggest policy news of the year may have been the EU AI Act, a comprehensive, sweeping law positioned to become the world's first comprehensive legal framework for artificial intelligence. While the European Parliament adopted its position in June, negotiations among the European Parliament, the European Council, and the European Commission (trilogue) are necessary before the policy becomes law. [In this [...] ### Stay Up To Date\\n\\nGet the latest news, advances in research, policy work, and education program updates from HAI in your inbox weekly.\\n\\n**Sign Up** For Latest News\\n\\n###### Navigate\\n\\n###### Participate\\n\\n# 13 Biggest AI Stories of 2023\\n\\n![](/_next/image?url=https%3A%2F%2Fhai.stanford.edu%2Fassets%2Fimages%2F2023-11%2FScreenshot%202023-11-27%20at%203.48.02%20PM.png&w=3840&q=100)\\n\\nGenerative models dominated the year, as calls for policy and transparency heated up.\", \"score\": 0.7813477}]\n",
      "=================================\u001b[1m Tool Message \u001b[0m=================================\n",
      "Name: arxiv\n",
      "\n",
      "Published: 2023-08-03\n",
      "Title: Q-Map: Quantum Circuit Implementation of Boolean Functions\n",
      "Authors: Hassan Hajjdiab, Ashraf Khalil, Hichem Eleuch\n",
      "Summary: Quantum computing has gained attention in recent years due to the significant\n",
      "progress in quantum computing technology. Today many companies like IBM, Google\n",
      "and Microsoft have developed quantum computers and simulators for research and\n",
      "commercial use. The development of quantum techniques and algorithms is\n",
      "essential to exploit the full power of \n",
      "==================================\u001b[1m Ai Message \u001b[0m==================================\n",
      "\n",
      "Here's a summary of the recent AI news and quantum computing research based on the tool responses:\n",
      "\n",
      "---\n",
      "\n",
      "### **Recent AI News Highlights (2023):**\n",
      "1. **Advanced Language & Multimodal Models**:  \n",
      "   - Breakthroughs in large language models (LLMs) like Meta's **LLaMa-1** and MosaicML's **MPT-30B** expanded AI's applications, particularly in multimodal tasks (combining text, images, and data).  \n",
      "   - Tools like OpenAI's **GPT-4 Turbo** and the **ChatGPT Store** (introduced in late 2023) highlighted advancements in user accessibility and integration.  \n",
      "\n",
      "2. **Impact on Industries**:  \n",
      "   - AI accelerated progress in **healthcare** (e.g., solving complex medical exam questions), **drug discovery**, and creative fields like art and design.  \n",
      "   - A **UN report** projected the global AI market to grow from $189B in 2023 to $4.8T by 2033, emphasizing the need for equitable global governance.  \n",
      "\n",
      "3. **Policy Developments**:  \n",
      "   - The **EU AI Act**, a landmark regulatory framework for AI ethics and safety, advanced through legislative negotiations in 2023.  \n",
      "\n",
      "---\n",
      "\n",
      "### **Recent Quantum Computing Research (ArXiv Paper):**  \n",
      "- **Title**: *Q-Map: Quantum Circuit Implementation of Boolean Functions*  \n",
      "- **Authors**: Hassan Hajjdiab, Ashraf Khalil, Hichem Eleuch (Published August 2023)  \n",
      "- **Key Focus**:  \n",
      "  This paper explores methods to implement Boolean functions using quantum circuits, likely addressing optimization or efficiency in quantum algorithm design. The abstract mentions the role of companies like IBM, Google, and Microsoft in advancing quantum hardware and simulators, suggesting the work contributes to practical implementations of quantum computing techniques.  \n",
      "\n",
      "**Note**: The summary provided cuts off mid-sentence, so further details would require accessing the full paper. The research likely aims to bridge theoretical quantum algorithms with real-world applications, possibly improving quantum programming frameworks or reducing computational overhead.  \n",
      "\n",
      "---\n",
      "\n",
      "Let me know if you'd like me to elaborate on specific points!\n"
     ]
    }
   ],
   "source": [
    "messages=graph.invoke({\"messages\":\"What is the recent ai news and then please tell me about the resent research paper on quantum computing?\"})\n",
    "for m in messages[\"messages\"]:\n",
    "    m.pretty_print()"
   ]
  }
 ],
 "metadata": {
  "kernelspec": {
   "display_name": ".venv",
   "language": "python",
   "name": "python3"
  },
  "language_info": {
   "codemirror_mode": {
    "name": "ipython",
    "version": 3
   },
   "file_extension": ".py",
   "mimetype": "text/x-python",
   "name": "python",
   "nbconvert_exporter": "python",
   "pygments_lexer": "ipython3",
   "version": "3.12.4"
  }
 },
 "nbformat": 4,
 "nbformat_minor": 5
}
